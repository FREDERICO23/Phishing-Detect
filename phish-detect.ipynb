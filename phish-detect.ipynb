{
 "cells": [
  {
   "cell_type": "markdown",
   "metadata": {},
   "source": [
    "## Libraries Imports "
   ]
  },
  {
   "cell_type": "code",
   "execution_count": 1,
   "metadata": {},
   "outputs": [],
   "source": [
    "import pandas as pd\n",
    "import numpy as np\n",
    "import matplotlib.pyplot as plt\n",
    "import seaborn as sns\n",
    "from nltk.tokenize import RegexpTokenizer\n",
    "from nltk.stem.snowball import SnowballStemmer\n",
    "from sklearn.feature_extraction.text import CountVectorizer\n",
    "from sklearn.model_selection import train_test_split\n",
    "from sklearn.utils import shuffle\n",
    "from sklearn.metrics import accuracy_score, precision_score, recall_score, confusion_matrix\n",
    "from sklearn.preprocessing import OneHotEncoder\n",
    "from tensorflow import keras\n",
    "from keras.models import Sequential\n",
    "from keras import Input\n",
    "from keras.layers import Dense"
   ]
  },
  {
   "cell_type": "code",
   "execution_count": 2,
   "metadata": {},
   "outputs": [
    {
     "data": {
      "text/html": [
       "<div>\n",
       "<style scoped>\n",
       "    .dataframe tbody tr th:only-of-type {\n",
       "        vertical-align: middle;\n",
       "    }\n",
       "\n",
       "    .dataframe tbody tr th {\n",
       "        vertical-align: top;\n",
       "    }\n",
       "\n",
       "    .dataframe thead th {\n",
       "        text-align: right;\n",
       "    }\n",
       "</style>\n",
       "<table border=\"1\" class=\"dataframe\">\n",
       "  <thead>\n",
       "    <tr style=\"text-align: right;\">\n",
       "      <th></th>\n",
       "      <th>Unnamed: 0</th>\n",
       "      <th>URL</th>\n",
       "      <th>Label</th>\n",
       "    </tr>\n",
       "  </thead>\n",
       "  <tbody>\n",
       "    <tr>\n",
       "      <th>224550</th>\n",
       "      <td>224550</td>\n",
       "      <td>ottawa.kijiji.ca/c-buy-and-sell-art-collectibl...</td>\n",
       "      <td>Safe</td>\n",
       "    </tr>\n",
       "    <tr>\n",
       "      <th>328088</th>\n",
       "      <td>328088</td>\n",
       "      <td>facebook.com/missutahusa?sk=wall</td>\n",
       "      <td>Safe</td>\n",
       "    </tr>\n",
       "    <tr>\n",
       "      <th>507895</th>\n",
       "      <td>507895</td>\n",
       "      <td>csob-ib.in/project/i.gif</td>\n",
       "      <td>a phishing Link</td>\n",
       "    </tr>\n",
       "    <tr>\n",
       "      <th>538082</th>\n",
       "      <td>538082</td>\n",
       "      <td>flutygoy.net/82okzzkq</td>\n",
       "      <td>a phishing Link</td>\n",
       "    </tr>\n",
       "    <tr>\n",
       "      <th>538137</th>\n",
       "      <td>538137</td>\n",
       "      <td>eaglemouth.org/d5436gh</td>\n",
       "      <td>a phishing Link</td>\n",
       "    </tr>\n",
       "  </tbody>\n",
       "</table>\n",
       "</div>"
      ],
      "text/plain": [
       "        Unnamed: 0                                                URL  \\\n",
       "224550      224550  ottawa.kijiji.ca/c-buy-and-sell-art-collectibl...   \n",
       "328088      328088                   facebook.com/missutahusa?sk=wall   \n",
       "507895      507895                           csob-ib.in/project/i.gif   \n",
       "538082      538082                              flutygoy.net/82okzzkq   \n",
       "538137      538137                             eaglemouth.org/d5436gh   \n",
       "\n",
       "                  Label  \n",
       "224550             Safe  \n",
       "328088             Safe  \n",
       "507895  a phishing Link  \n",
       "538082  a phishing Link  \n",
       "538137  a phishing Link  "
      ]
     },
     "execution_count": 2,
     "metadata": {},
     "output_type": "execute_result"
    }
   ],
   "source": [
    "df = pd.read_csv(\"phishing.csv\")\n",
    "df.sample(5)\n"
   ]
  },
  {
   "cell_type": "markdown",
   "metadata": {},
   "source": [
    "## EDA"
   ]
  },
  {
   "cell_type": "code",
   "execution_count": 3,
   "metadata": {},
   "outputs": [
    {
     "name": "stdout",
     "output_type": "stream",
     "text": [
      "Shape: (549346, 3)\n"
     ]
    }
   ],
   "source": [
    "print(\"Shape:\", df.shape)"
   ]
  },
  {
   "cell_type": "code",
   "execution_count": 4,
   "metadata": {},
   "outputs": [
    {
     "name": "stdout",
     "output_type": "stream",
     "text": [
      "<class 'pandas.core.frame.DataFrame'>\n",
      "RangeIndex: 549346 entries, 0 to 549345\n",
      "Data columns (total 3 columns):\n",
      " #   Column      Non-Null Count   Dtype \n",
      "---  ------      --------------   ----- \n",
      " 0   Unnamed: 0  549346 non-null  int64 \n",
      " 1   URL         549346 non-null  object\n",
      " 2   Label       549346 non-null  object\n",
      "dtypes: int64(1), object(2)\n",
      "memory usage: 12.6+ MB\n"
     ]
    }
   ],
   "source": [
    "df.info()"
   ]
  },
  {
   "cell_type": "code",
   "execution_count": 5,
   "metadata": {},
   "outputs": [
    {
     "data": {
      "text/html": [
       "<div>\n",
       "<style scoped>\n",
       "    .dataframe tbody tr th:only-of-type {\n",
       "        vertical-align: middle;\n",
       "    }\n",
       "\n",
       "    .dataframe tbody tr th {\n",
       "        vertical-align: top;\n",
       "    }\n",
       "\n",
       "    .dataframe thead th {\n",
       "        text-align: right;\n",
       "    }\n",
       "</style>\n",
       "<table border=\"1\" class=\"dataframe\">\n",
       "  <thead>\n",
       "    <tr style=\"text-align: right;\">\n",
       "      <th></th>\n",
       "      <th>index</th>\n",
       "      <th>missing_val</th>\n",
       "    </tr>\n",
       "  </thead>\n",
       "  <tbody>\n",
       "  </tbody>\n",
       "</table>\n",
       "</div>"
      ],
      "text/plain": [
       "Empty DataFrame\n",
       "Columns: [index, missing_val]\n",
       "Index: []"
      ]
     },
     "execution_count": 5,
     "metadata": {},
     "output_type": "execute_result"
    }
   ],
   "source": [
    "# check null values\n",
    "null = df.isnull().sum().reset_index(name='missing_val')\n",
    "null[null['missing_val']!= 0]"
   ]
  },
  {
   "cell_type": "code",
   "execution_count": 6,
   "metadata": {},
   "outputs": [
    {
     "data": {
      "text/html": [
       "<div>\n",
       "<style scoped>\n",
       "    .dataframe tbody tr th:only-of-type {\n",
       "        vertical-align: middle;\n",
       "    }\n",
       "\n",
       "    .dataframe tbody tr th {\n",
       "        vertical-align: top;\n",
       "    }\n",
       "\n",
       "    .dataframe thead th {\n",
       "        text-align: right;\n",
       "    }\n",
       "</style>\n",
       "<table border=\"1\" class=\"dataframe\">\n",
       "  <thead>\n",
       "    <tr style=\"text-align: right;\">\n",
       "      <th></th>\n",
       "      <th>Unnamed: 0</th>\n",
       "    </tr>\n",
       "  </thead>\n",
       "  <tbody>\n",
       "    <tr>\n",
       "      <th>count</th>\n",
       "      <td>549346.000000</td>\n",
       "    </tr>\n",
       "    <tr>\n",
       "      <th>mean</th>\n",
       "      <td>274672.500000</td>\n",
       "    </tr>\n",
       "    <tr>\n",
       "      <th>std</th>\n",
       "      <td>158582.674826</td>\n",
       "    </tr>\n",
       "    <tr>\n",
       "      <th>min</th>\n",
       "      <td>0.000000</td>\n",
       "    </tr>\n",
       "    <tr>\n",
       "      <th>25%</th>\n",
       "      <td>137336.250000</td>\n",
       "    </tr>\n",
       "    <tr>\n",
       "      <th>50%</th>\n",
       "      <td>274672.500000</td>\n",
       "    </tr>\n",
       "    <tr>\n",
       "      <th>75%</th>\n",
       "      <td>412008.750000</td>\n",
       "    </tr>\n",
       "    <tr>\n",
       "      <th>max</th>\n",
       "      <td>549345.000000</td>\n",
       "    </tr>\n",
       "  </tbody>\n",
       "</table>\n",
       "</div>"
      ],
      "text/plain": [
       "          Unnamed: 0\n",
       "count  549346.000000\n",
       "mean   274672.500000\n",
       "std    158582.674826\n",
       "min         0.000000\n",
       "25%    137336.250000\n",
       "50%    274672.500000\n",
       "75%    412008.750000\n",
       "max    549345.000000"
      ]
     },
     "execution_count": 6,
     "metadata": {},
     "output_type": "execute_result"
    }
   ],
   "source": [
    "df.describe()"
   ]
  },
  {
   "cell_type": "code",
   "execution_count": 7,
   "metadata": {},
   "outputs": [
    {
     "data": {
      "text/plain": [
       "Safe               392924\n",
       "a phishing Link    156422\n",
       "Name: Label, dtype: int64"
      ]
     },
     "execution_count": 7,
     "metadata": {},
     "output_type": "execute_result"
    }
   ],
   "source": [
    "df.Label.value_counts()"
   ]
  },
  {
   "cell_type": "code",
   "execution_count": 8,
   "metadata": {},
   "outputs": [
    {
     "data": {
      "image/png": "[encoded data removed]",
      "text/plain": [
       "<Figure size 432x288 with 1 Axes>"
      ]
     },
     "metadata": {
      "needs_background": "light"
     },
     "output_type": "display_data"
    }
   ],
   "source": [
    "sns.countplot(data=df, x=\"Label\")\n",
    "plt.show()"
   ]
  },
  {
   "cell_type": "markdown",
   "metadata": {},
   "source": [
    "## Data Processing"
   ]
  },
  {
   "cell_type": "code",
   "execution_count": 9,
   "metadata": {},
   "outputs": [],
   "source": [
    "# shuffle the data\n",
    "\n",
    "df_shuffled = shuffle(df, random_state=42)"
   ]
  },
  {
   "cell_type": "code",
   "execution_count": 10,
   "metadata": {},
   "outputs": [],
   "source": [
    "# Take a sample of the data (10000)\n",
    "sample_size= 10000"
   ]
  },
  {
   "cell_type": "code",
   "execution_count": 11,
   "metadata": {},
   "outputs": [],
   "source": [
    "df_sample = df_shuffled[:sample_size].copy()"
   ]
  },
  {
   "cell_type": "code",
   "execution_count": 12,
   "metadata": {},
   "outputs": [
    {
     "data": {
      "image/png": "[encoded data removed]",
      "text/plain": [
       "<Figure size 432x288 with 1 Axes>"
      ]
     },
     "metadata": {
      "needs_background": "light"
     },
     "output_type": "display_data"
    }
   ],
   "source": [
    "# check distribution \n",
    "sns.countplot(data=df_sample, x='Label')\n",
    "plt.show()"
   ]
  },
  {
   "cell_type": "code",
   "execution_count": 13,
   "metadata": {},
   "outputs": [],
   "source": [
    "## Encode the Label\n",
    "from sklearn.preprocessing import LabelEncoder\n",
    "le = LabelEncoder()\n",
    "df_sample['Label'] = le.fit_transform(df_sample['Label'])\n"
   ]
  },
  {
   "cell_type": "code",
   "execution_count": 14,
   "metadata": {},
   "outputs": [
    {
     "data": {
      "text/plain": [
       "array([0, 1])"
      ]
     },
     "execution_count": 14,
     "metadata": {},
     "output_type": "execute_result"
    }
   ],
   "source": [
    "df_sample['Label'].unique()"
   ]
  },
  {
   "cell_type": "code",
   "execution_count": 15,
   "metadata": {},
   "outputs": [],
   "source": [
    "# Split the features and the target\n",
    "\n",
    "X = df_sample[['URL']].copy()\n",
    "y = df_sample.Label.copy()"
   ]
  },
  {
   "cell_type": "code",
   "execution_count": 16,
   "metadata": {},
   "outputs": [],
   "source": [
    "# Initialize Tokenizer Stemmer and Vectorizer\n",
    "\n",
    "tokenizer = RegexpTokenizer(r'[A-Za-z]+')\n",
    "stemmer = SnowballStemmer(\"english\")\n",
    "cv = CountVectorizer()"
   ]
  },
  {
   "cell_type": "markdown",
   "metadata": {},
   "source": [
    "## Data Preparation"
   ]
  },
  {
   "cell_type": "code",
   "execution_count": 17,
   "metadata": {},
   "outputs": [],
   "source": [
    "def prepare_data(X) :\n",
    "    X['text_tokenized'] = X.URL.map(lambda t: tokenizer.tokenize(t))\n",
    "    X['text_stemmed'] = X.text_tokenized.map(lambda t: [stemmer.stem(word) for word in t])\n",
    "    X['text_sent'] = X.text_stemmed.map(lambda t: ' '.join(t))\n",
    "    features = cv.fit_transform(X.text_sent)\n",
    "    return X, features"
   ]
  },
  {
   "cell_type": "code",
   "execution_count": 18,
   "metadata": {},
   "outputs": [],
   "source": [
    "X, features = prepare_data(X)"
   ]
  },
  {
   "cell_type": "code",
   "execution_count": 19,
   "metadata": {},
   "outputs": [
    {
     "data": {
      "text/plain": [
       "pandas.core.series.Series"
      ]
     },
     "execution_count": 19,
     "metadata": {},
     "output_type": "execute_result"
    }
   ],
   "source": [
    "type(X.URL)"
   ]
  },
  {
   "cell_type": "code",
   "execution_count": 20,
   "metadata": {},
   "outputs": [
    {
     "data": {
      "text/html": [
       "<div>\n",
       "<style scoped>\n",
       "    .dataframe tbody tr th:only-of-type {\n",
       "        vertical-align: middle;\n",
       "    }\n",
       "\n",
       "    .dataframe tbody tr th {\n",
       "        vertical-align: top;\n",
       "    }\n",
       "\n",
       "    .dataframe thead th {\n",
       "        text-align: right;\n",
       "    }\n",
       "</style>\n",
       "<table border=\"1\" class=\"dataframe\">\n",
       "  <thead>\n",
       "    <tr style=\"text-align: right;\">\n",
       "      <th></th>\n",
       "      <th>URL</th>\n",
       "      <th>text_tokenized</th>\n",
       "      <th>text_stemmed</th>\n",
       "      <th>text_sent</th>\n",
       "    </tr>\n",
       "  </thead>\n",
       "  <tbody>\n",
       "    <tr>\n",
       "      <th>452638</th>\n",
       "      <td>tubevector.com/search/?q=erika</td>\n",
       "      <td>[tubevector, com, search, q, erika]</td>\n",
       "      <td>[tubevector, com, search, q, erika]</td>\n",
       "      <td>tubevector com search q erika</td>\n",
       "    </tr>\n",
       "    <tr>\n",
       "      <th>306476</th>\n",
       "      <td>classmates.com/directory/school/Marian%20Chris...</td>\n",
       "      <td>[classmates, com, directory, school, Marian, C...</td>\n",
       "      <td>[classmat, com, directori, school, marian, chr...</td>\n",
       "      <td>classmat com directori school marian christian...</td>\n",
       "    </tr>\n",
       "    <tr>\n",
       "      <th>100735</th>\n",
       "      <td>isgsi.com/office/adb/c58c94eccbfb951bd4ba5f2a6...</td>\n",
       "      <td>[isgsi, com, office, adb, c, c, eccbfb, bd, ba...</td>\n",
       "      <td>[isgsi, com, offic, adb, c, c, eccbfb, bd, ba,...</td>\n",
       "      <td>isgsi com offic adb c c eccbfb bd ba f a a d a...</td>\n",
       "    </tr>\n",
       "    <tr>\n",
       "      <th>384460</th>\n",
       "      <td>manufacturersnews.com/executives.asp?start=CEN</td>\n",
       "      <td>[manufacturersnews, com, executives, asp, star...</td>\n",
       "      <td>[manufacturersnew, com, execut, asp, start, cen]</td>\n",
       "      <td>manufacturersnew com execut asp start cen</td>\n",
       "    </tr>\n",
       "    <tr>\n",
       "      <th>40436</th>\n",
       "      <td>'9d345009-a-62cb3a1a-s-sites.googlegroups.com/...</td>\n",
       "      <td>[d, a, cb, a, a, s, sites, googlegroups, com, ...</td>\n",
       "      <td>[d, a, cb, a, a, s, site, googlegroup, com, si...</td>\n",
       "      <td>d a cb a a s site googlegroup com site stickam...</td>\n",
       "    </tr>\n",
       "    <tr>\n",
       "      <th>...</th>\n",
       "      <td>...</td>\n",
       "      <td>...</td>\n",
       "      <td>...</td>\n",
       "      <td>...</td>\n",
       "    </tr>\n",
       "    <tr>\n",
       "      <th>363623</th>\n",
       "      <td>islandhideaways.com/stmartin/villas/serena/</td>\n",
       "      <td>[islandhideaways, com, stmartin, villas, serena]</td>\n",
       "      <td>[islandhideaway, com, stmartin, villa, serena]</td>\n",
       "      <td>islandhideaway com stmartin villa serena</td>\n",
       "    </tr>\n",
       "    <tr>\n",
       "      <th>352027</th>\n",
       "      <td>historyorb.com/day/january/16</td>\n",
       "      <td>[historyorb, com, day, january]</td>\n",
       "      <td>[historyorb, com, day, januari]</td>\n",
       "      <td>historyorb com day januari</td>\n",
       "    </tr>\n",
       "    <tr>\n",
       "      <th>70838</th>\n",
       "      <td>www.angelfire.com/ar/rm/</td>\n",
       "      <td>[www, angelfire, com, ar, rm]</td>\n",
       "      <td>[www, angelfir, com, ar, rm]</td>\n",
       "      <td>www angelfir com ar rm</td>\n",
       "    </tr>\n",
       "    <tr>\n",
       "      <th>481409</th>\n",
       "      <td>xfamily.org/index.php/Cult_Killer:_The_Rick_Ro...</td>\n",
       "      <td>[xfamily, org, index, php, Cult, Killer, The, ...</td>\n",
       "      <td>[xfamili, org, index, php, cult, killer, the, ...</td>\n",
       "      <td>xfamili org index php cult killer the rick rod...</td>\n",
       "    </tr>\n",
       "    <tr>\n",
       "      <th>37696</th>\n",
       "      <td>mgk-oil.kz/a/paypal.html</td>\n",
       "      <td>[mgk, oil, kz, a, paypal, html]</td>\n",
       "      <td>[mgk, oil, kz, a, paypal, html]</td>\n",
       "      <td>mgk oil kz a paypal html</td>\n",
       "    </tr>\n",
       "  </tbody>\n",
       "</table>\n",
       "<p>10000 rows × 4 columns</p>\n",
       "</div>"
      ],
      "text/plain": [
       "                                                      URL  \\\n",
       "452638                     tubevector.com/search/?q=erika   \n",
       "306476  classmates.com/directory/school/Marian%20Chris...   \n",
       "100735  isgsi.com/office/adb/c58c94eccbfb951bd4ba5f2a6...   \n",
       "384460     manufacturersnews.com/executives.asp?start=CEN   \n",
       "40436   '9d345009-a-62cb3a1a-s-sites.googlegroups.com/...   \n",
       "...                                                   ...   \n",
       "363623        islandhideaways.com/stmartin/villas/serena/   \n",
       "352027                      historyorb.com/day/january/16   \n",
       "70838                            www.angelfire.com/ar/rm/   \n",
       "481409  xfamily.org/index.php/Cult_Killer:_The_Rick_Ro...   \n",
       "37696                            mgk-oil.kz/a/paypal.html   \n",
       "\n",
       "                                           text_tokenized  \\\n",
       "452638                [tubevector, com, search, q, erika]   \n",
       "306476  [classmates, com, directory, school, Marian, C...   \n",
       "100735  [isgsi, com, office, adb, c, c, eccbfb, bd, ba...   \n",
       "384460  [manufacturersnews, com, executives, asp, star...   \n",
       "40436   [d, a, cb, a, a, s, sites, googlegroups, com, ...   \n",
       "...                                                   ...   \n",
       "363623   [islandhideaways, com, stmartin, villas, serena]   \n",
       "352027                    [historyorb, com, day, january]   \n",
       "70838                       [www, angelfire, com, ar, rm]   \n",
       "481409  [xfamily, org, index, php, Cult, Killer, The, ...   \n",
       "37696                     [mgk, oil, kz, a, paypal, html]   \n",
       "\n",
       "                                             text_stemmed  \\\n",
       "452638                [tubevector, com, search, q, erika]   \n",
       "306476  [classmat, com, directori, school, marian, chr...   \n",
       "100735  [isgsi, com, offic, adb, c, c, eccbfb, bd, ba,...   \n",
       "384460   [manufacturersnew, com, execut, asp, start, cen]   \n",
       "40436   [d, a, cb, a, a, s, site, googlegroup, com, si...   \n",
       "...                                                   ...   \n",
       "363623     [islandhideaway, com, stmartin, villa, serena]   \n",
       "352027                    [historyorb, com, day, januari]   \n",
       "70838                        [www, angelfir, com, ar, rm]   \n",
       "481409  [xfamili, org, index, php, cult, killer, the, ...   \n",
       "37696                     [mgk, oil, kz, a, paypal, html]   \n",
       "\n",
       "                                                text_sent  \n",
       "452638                      tubevector com search q erika  \n",
       "306476  classmat com directori school marian christian...  \n",
       "100735  isgsi com offic adb c c eccbfb bd ba f a a d a...  \n",
       "384460          manufacturersnew com execut asp start cen  \n",
       "40436   d a cb a a s site googlegroup com site stickam...  \n",
       "...                                                   ...  \n",
       "363623           islandhideaway com stmartin villa serena  \n",
       "352027                         historyorb com day januari  \n",
       "70838                              www angelfir com ar rm  \n",
       "481409  xfamili org index php cult killer the rick rod...  \n",
       "37696                            mgk oil kz a paypal html  \n",
       "\n",
       "[10000 rows x 4 columns]"
      ]
     },
     "execution_count": 20,
     "metadata": {},
     "output_type": "execute_result"
    }
   ],
   "source": [
    "X"
   ]
  },
  {
   "cell_type": "markdown",
   "metadata": {},
   "source": [
    "## Modeling"
   ]
  },
  {
   "cell_type": "code",
   "execution_count": 21,
   "metadata": {},
   "outputs": [],
   "source": [
    "# Import models \n",
    "from sklearn.linear_model import LogisticRegression\n",
    "from sklearn.neighbors import KNeighborsClassifier\n",
    "from sklearn.tree import DecisionTreeClassifier\n",
    "from sklearn.ensemble import RandomForestClassifier\n",
    "from sklearn.svm import SVC"
   ]
  },
  {
   "cell_type": "code",
   "execution_count": 22,
   "metadata": {},
   "outputs": [],
   "source": [
    "logreg = LogisticRegression()\n",
    "knn = KNeighborsClassifier()\n",
    "dtree = DecisionTreeClassifier()\n",
    "rfc = RandomForestClassifier()\n",
    "svc = SVC()"
   ]
  },
  {
   "cell_type": "code",
   "execution_count": 23,
   "metadata": {},
   "outputs": [],
   "source": [
    "def train_test_model(model, X, y, training_percentage) :\n",
    "    trainX, testX, trainY, testY = train_test_split(X, y, test_size=1-training_percentage, stratify=y, random_state=42)\n",
    "    model.fit(trainX, trainY)\n",
    "    predY = model.predict(testX)\n",
    "    accuracy = accuracy_score(testY, predY)\n",
    "    precision = precision_score(testY, predY, pos_label=1)\n",
    "    recall = recall_score(testY, predY, pos_label=1)\n",
    "    return accuracy, precision, recall  "
   ]
  },
  {
   "cell_type": "code",
   "execution_count": 24,
   "metadata": {},
   "outputs": [],
   "source": [
    "training_sizes = np.array([0.1, 0.2, 0.3, 0.4, 0.5, 0.6, 0.7, 0.8, 0.9])"
   ]
  },
  {
   "cell_type": "code",
   "execution_count": 25,
   "metadata": {},
   "outputs": [],
   "source": [
    "def model_results(model) :\n",
    "    results = []\n",
    "    for p in training_sizes :\n",
    "        results.append(train_test_model(model, features, y, p))\n",
    "    return pd.DataFrame(results, columns=['Accuracy', 'Precision', 'Recall'])"
   ]
  },
  {
   "cell_type": "code",
   "execution_count": 26,
   "metadata": {},
   "outputs": [],
   "source": [
    "logreg_results = model_results(logreg)\n",
    "knn_results = model_results(knn)\n",
    "dtree_results = model_results(dtree)\n",
    "rfc_results = model_results(rfc)\n",
    "svc_results = model_results(svc)"
   ]
  },
  {
   "cell_type": "code",
   "execution_count": 27,
   "metadata": {},
   "outputs": [],
   "source": [
    "models = ['Logistic Regression', 'KNN', 'Decision Tree', 'Random Forest', 'SVM']\n",
    "model_results = [logreg_results, knn_results, dtree_results, rfc_results, svc_results]"
   ]
  },
  {
   "cell_type": "code",
   "execution_count": 28,
   "metadata": {},
   "outputs": [],
   "source": [
    "accuracies = []\n",
    "precisions = []\n",
    "recalls = []\n",
    "for model in model_results :\n",
    "    accuracies.append(model.Accuracy.values)\n",
    "    precisions.append(model.Precision.values)\n",
    "    recalls.append(model.Recall.values)"
   ]
  },
  {
   "cell_type": "code",
   "execution_count": 29,
   "metadata": {},
   "outputs": [],
   "source": [
    "accuracies = pd.DataFrame(np.transpose(accuracies), columns=models, index=training_sizes*100)\n",
    "precisions = pd.DataFrame(np.transpose(precisions), columns=models, index=training_sizes*100)\n",
    "recalls = pd.DataFrame(np.transpose(recalls), columns=models, index=training_sizes*100)"
   ]
  },
  {
   "cell_type": "code",
   "execution_count": 30,
   "metadata": {},
   "outputs": [
    {
     "data": {
      "text/html": [
       "<div>\n",
       "<style scoped>\n",
       "    .dataframe tbody tr th:only-of-type {\n",
       "        vertical-align: middle;\n",
       "    }\n",
       "\n",
       "    .dataframe tbody tr th {\n",
       "        vertical-align: top;\n",
       "    }\n",
       "\n",
       "    .dataframe thead th {\n",
       "        text-align: right;\n",
       "    }\n",
       "</style>\n",
       "<table border=\"1\" class=\"dataframe\">\n",
       "  <thead>\n",
       "    <tr style=\"text-align: right;\">\n",
       "      <th></th>\n",
       "      <th>Logistic Regression</th>\n",
       "      <th>KNN</th>\n",
       "      <th>Decision Tree</th>\n",
       "      <th>Random Forest</th>\n",
       "      <th>SVM</th>\n",
       "    </tr>\n",
       "  </thead>\n",
       "  <tbody>\n",
       "    <tr>\n",
       "      <th>10.0</th>\n",
       "      <td>0.855556</td>\n",
       "      <td>0.720778</td>\n",
       "      <td>0.842778</td>\n",
       "      <td>0.864333</td>\n",
       "      <td>0.824556</td>\n",
       "    </tr>\n",
       "    <tr>\n",
       "      <th>20.0</th>\n",
       "      <td>0.877375</td>\n",
       "      <td>0.748375</td>\n",
       "      <td>0.861125</td>\n",
       "      <td>0.878375</td>\n",
       "      <td>0.857375</td>\n",
       "    </tr>\n",
       "    <tr>\n",
       "      <th>30.0</th>\n",
       "      <td>0.885714</td>\n",
       "      <td>0.746143</td>\n",
       "      <td>0.868000</td>\n",
       "      <td>0.888286</td>\n",
       "      <td>0.872286</td>\n",
       "    </tr>\n",
       "    <tr>\n",
       "      <th>40.0</th>\n",
       "      <td>0.893333</td>\n",
       "      <td>0.769500</td>\n",
       "      <td>0.875500</td>\n",
       "      <td>0.896833</td>\n",
       "      <td>0.878333</td>\n",
       "    </tr>\n",
       "    <tr>\n",
       "      <th>50.0</th>\n",
       "      <td>0.899600</td>\n",
       "      <td>0.784800</td>\n",
       "      <td>0.887000</td>\n",
       "      <td>0.899400</td>\n",
       "      <td>0.884600</td>\n",
       "    </tr>\n",
       "    <tr>\n",
       "      <th>60.0</th>\n",
       "      <td>0.906000</td>\n",
       "      <td>0.765500</td>\n",
       "      <td>0.879250</td>\n",
       "      <td>0.904250</td>\n",
       "      <td>0.891500</td>\n",
       "    </tr>\n",
       "    <tr>\n",
       "      <th>70.0</th>\n",
       "      <td>0.905698</td>\n",
       "      <td>0.776408</td>\n",
       "      <td>0.883372</td>\n",
       "      <td>0.906031</td>\n",
       "      <td>0.894369</td>\n",
       "    </tr>\n",
       "    <tr>\n",
       "      <th>80.0</th>\n",
       "      <td>0.910000</td>\n",
       "      <td>0.778500</td>\n",
       "      <td>0.891000</td>\n",
       "      <td>0.906500</td>\n",
       "      <td>0.896500</td>\n",
       "    </tr>\n",
       "    <tr>\n",
       "      <th>90.0</th>\n",
       "      <td>0.932000</td>\n",
       "      <td>0.795000</td>\n",
       "      <td>0.897000</td>\n",
       "      <td>0.921000</td>\n",
       "      <td>0.912000</td>\n",
       "    </tr>\n",
       "  </tbody>\n",
       "</table>\n",
       "</div>"
      ],
      "text/plain": [
       "      Logistic Regression       KNN  Decision Tree  Random Forest       SVM\n",
       "10.0             0.855556  0.720778       0.842778       0.864333  0.824556\n",
       "20.0             0.877375  0.748375       0.861125       0.878375  0.857375\n",
       "30.0             0.885714  0.746143       0.868000       0.888286  0.872286\n",
       "40.0             0.893333  0.769500       0.875500       0.896833  0.878333\n",
       "50.0             0.899600  0.784800       0.887000       0.899400  0.884600\n",
       "60.0             0.906000  0.765500       0.879250       0.904250  0.891500\n",
       "70.0             0.905698  0.776408       0.883372       0.906031  0.894369\n",
       "80.0             0.910000  0.778500       0.891000       0.906500  0.896500\n",
       "90.0             0.932000  0.795000       0.897000       0.921000  0.912000"
      ]
     },
     "execution_count": 30,
     "metadata": {},
     "output_type": "execute_result"
    }
   ],
   "source": [
    "accuracies"
   ]
  },
  {
   "cell_type": "code",
   "execution_count": 31,
   "metadata": {},
   "outputs": [
    {
     "data": {
      "text/html": [
       "<div>\n",
       "<style scoped>\n",
       "    .dataframe tbody tr th:only-of-type {\n",
       "        vertical-align: middle;\n",
       "    }\n",
       "\n",
       "    .dataframe tbody tr th {\n",
       "        vertical-align: top;\n",
       "    }\n",
       "\n",
       "    .dataframe thead th {\n",
       "        text-align: right;\n",
       "    }\n",
       "</style>\n",
       "<table border=\"1\" class=\"dataframe\">\n",
       "  <thead>\n",
       "    <tr style=\"text-align: right;\">\n",
       "      <th></th>\n",
       "      <th>Logistic Regression</th>\n",
       "      <th>KNN</th>\n",
       "      <th>Decision Tree</th>\n",
       "      <th>Random Forest</th>\n",
       "      <th>SVM</th>\n",
       "    </tr>\n",
       "  </thead>\n",
       "  <tbody>\n",
       "    <tr>\n",
       "      <th>10.0</th>\n",
       "      <td>0.912395</td>\n",
       "      <td>0.510576</td>\n",
       "      <td>0.742246</td>\n",
       "      <td>0.917698</td>\n",
       "      <td>0.938938</td>\n",
       "    </tr>\n",
       "    <tr>\n",
       "      <th>20.0</th>\n",
       "      <td>0.919075</td>\n",
       "      <td>0.554930</td>\n",
       "      <td>0.805195</td>\n",
       "      <td>0.920026</td>\n",
       "      <td>0.918800</td>\n",
       "    </tr>\n",
       "    <tr>\n",
       "      <th>30.0</th>\n",
       "      <td>0.912088</td>\n",
       "      <td>0.548584</td>\n",
       "      <td>0.803955</td>\n",
       "      <td>0.923505</td>\n",
       "      <td>0.908419</td>\n",
       "    </tr>\n",
       "    <tr>\n",
       "      <th>40.0</th>\n",
       "      <td>0.914352</td>\n",
       "      <td>0.586333</td>\n",
       "      <td>0.824279</td>\n",
       "      <td>0.923434</td>\n",
       "      <td>0.910684</td>\n",
       "    </tr>\n",
       "    <tr>\n",
       "      <th>50.0</th>\n",
       "      <td>0.927978</td>\n",
       "      <td>0.616348</td>\n",
       "      <td>0.855848</td>\n",
       "      <td>0.933521</td>\n",
       "      <td>0.921782</td>\n",
       "    </tr>\n",
       "    <tr>\n",
       "      <th>60.0</th>\n",
       "      <td>0.932356</td>\n",
       "      <td>0.578424</td>\n",
       "      <td>0.828032</td>\n",
       "      <td>0.930839</td>\n",
       "      <td>0.928658</td>\n",
       "    </tr>\n",
       "    <tr>\n",
       "      <th>70.0</th>\n",
       "      <td>0.917151</td>\n",
       "      <td>0.600000</td>\n",
       "      <td>0.814126</td>\n",
       "      <td>0.920937</td>\n",
       "      <td>0.916667</td>\n",
       "    </tr>\n",
       "    <tr>\n",
       "      <th>80.0</th>\n",
       "      <td>0.918630</td>\n",
       "      <td>0.593023</td>\n",
       "      <td>0.840077</td>\n",
       "      <td>0.912017</td>\n",
       "      <td>0.908072</td>\n",
       "    </tr>\n",
       "    <tr>\n",
       "      <th>90.0</th>\n",
       "      <td>0.939516</td>\n",
       "      <td>0.621622</td>\n",
       "      <td>0.856031</td>\n",
       "      <td>0.919028</td>\n",
       "      <td>0.923077</td>\n",
       "    </tr>\n",
       "  </tbody>\n",
       "</table>\n",
       "</div>"
      ],
      "text/plain": [
       "      Logistic Regression       KNN  Decision Tree  Random Forest       SVM\n",
       "10.0             0.912395  0.510576       0.742246       0.917698  0.938938\n",
       "20.0             0.919075  0.554930       0.805195       0.920026  0.918800\n",
       "30.0             0.912088  0.548584       0.803955       0.923505  0.908419\n",
       "40.0             0.914352  0.586333       0.824279       0.923434  0.910684\n",
       "50.0             0.927978  0.616348       0.855848       0.933521  0.921782\n",
       "60.0             0.932356  0.578424       0.828032       0.930839  0.928658\n",
       "70.0             0.917151  0.600000       0.814126       0.920937  0.916667\n",
       "80.0             0.918630  0.593023       0.840077       0.912017  0.908072\n",
       "90.0             0.939516  0.621622       0.856031       0.919028  0.923077"
      ]
     },
     "execution_count": 31,
     "metadata": {},
     "output_type": "execute_result"
    }
   ],
   "source": [
    "precisions"
   ]
  },
  {
   "cell_type": "code",
   "execution_count": 32,
   "metadata": {},
   "outputs": [
    {
     "data": {
      "text/html": [
       "<div>\n",
       "<style scoped>\n",
       "    .dataframe tbody tr th:only-of-type {\n",
       "        vertical-align: middle;\n",
       "    }\n",
       "\n",
       "    .dataframe tbody tr th {\n",
       "        vertical-align: top;\n",
       "    }\n",
       "\n",
       "    .dataframe thead th {\n",
       "        text-align: right;\n",
       "    }\n",
       "</style>\n",
       "<table border=\"1\" class=\"dataframe\">\n",
       "  <thead>\n",
       "    <tr style=\"text-align: right;\">\n",
       "      <th></th>\n",
       "      <th>Logistic Regression</th>\n",
       "      <th>KNN</th>\n",
       "      <th>Decision Tree</th>\n",
       "      <th>Random Forest</th>\n",
       "      <th>SVM</th>\n",
       "    </tr>\n",
       "  </thead>\n",
       "  <tbody>\n",
       "    <tr>\n",
       "      <th>10.0</th>\n",
       "      <td>0.546869</td>\n",
       "      <td>0.544535</td>\n",
       "      <td>0.688837</td>\n",
       "      <td>0.576818</td>\n",
       "      <td>0.412680</td>\n",
       "    </tr>\n",
       "    <tr>\n",
       "      <th>20.0</th>\n",
       "      <td>0.625984</td>\n",
       "      <td>0.603237</td>\n",
       "      <td>0.678040</td>\n",
       "      <td>0.629046</td>\n",
       "      <td>0.549431</td>\n",
       "    </tr>\n",
       "    <tr>\n",
       "      <th>30.0</th>\n",
       "      <td>0.664000</td>\n",
       "      <td>0.629500</td>\n",
       "      <td>0.711500</td>\n",
       "      <td>0.664000</td>\n",
       "      <td>0.615000</td>\n",
       "    </tr>\n",
       "    <tr>\n",
       "      <th>40.0</th>\n",
       "      <td>0.691365</td>\n",
       "      <td>0.655776</td>\n",
       "      <td>0.717036</td>\n",
       "      <td>0.696616</td>\n",
       "      <td>0.636523</td>\n",
       "    </tr>\n",
       "    <tr>\n",
       "      <th>50.0</th>\n",
       "      <td>0.703289</td>\n",
       "      <td>0.654304</td>\n",
       "      <td>0.727082</td>\n",
       "      <td>0.697691</td>\n",
       "      <td>0.651505</td>\n",
       "    </tr>\n",
       "    <tr>\n",
       "      <th>60.0</th>\n",
       "      <td>0.723535</td>\n",
       "      <td>0.661417</td>\n",
       "      <td>0.728784</td>\n",
       "      <td>0.718285</td>\n",
       "      <td>0.671916</td>\n",
       "    </tr>\n",
       "    <tr>\n",
       "      <th>70.0</th>\n",
       "      <td>0.736289</td>\n",
       "      <td>0.651109</td>\n",
       "      <td>0.766628</td>\n",
       "      <td>0.733956</td>\n",
       "      <td>0.693116</td>\n",
       "    </tr>\n",
       "    <tr>\n",
       "      <th>80.0</th>\n",
       "      <td>0.751313</td>\n",
       "      <td>0.714536</td>\n",
       "      <td>0.763573</td>\n",
       "      <td>0.744308</td>\n",
       "      <td>0.709282</td>\n",
       "    </tr>\n",
       "    <tr>\n",
       "      <th>90.0</th>\n",
       "      <td>0.814685</td>\n",
       "      <td>0.723776</td>\n",
       "      <td>0.769231</td>\n",
       "      <td>0.793706</td>\n",
       "      <td>0.755245</td>\n",
       "    </tr>\n",
       "  </tbody>\n",
       "</table>\n",
       "</div>"
      ],
      "text/plain": [
       "      Logistic Regression       KNN  Decision Tree  Random Forest       SVM\n",
       "10.0             0.546869  0.544535       0.688837       0.576818  0.412680\n",
       "20.0             0.625984  0.603237       0.678040       0.629046  0.549431\n",
       "30.0             0.664000  0.629500       0.711500       0.664000  0.615000\n",
       "40.0             0.691365  0.655776       0.717036       0.696616  0.636523\n",
       "50.0             0.703289  0.654304       0.727082       0.697691  0.651505\n",
       "60.0             0.723535  0.661417       0.728784       0.718285  0.671916\n",
       "70.0             0.736289  0.651109       0.766628       0.733956  0.693116\n",
       "80.0             0.751313  0.714536       0.763573       0.744308  0.709282\n",
       "90.0             0.814685  0.723776       0.769231       0.793706  0.755245"
      ]
     },
     "execution_count": 32,
     "metadata": {},
     "output_type": "execute_result"
    }
   ],
   "source": [
    "recalls"
   ]
  },
  {
   "cell_type": "code",
   "execution_count": 33,
   "metadata": {},
   "outputs": [
    {
     "data": {
      "text/plain": [
       "Text(0, 0.5, 'Accuracy')"
      ]
     },
     "execution_count": 33,
     "metadata": {},
     "output_type": "execute_result"
    },
    {
     "data": {
      "image/png": "[encoded data removed]",
      "text/plain": [
       "<Figure size 1080x576 with 1 Axes>"
      ]
     },
     "metadata": {},
     "output_type": "display_data"
    }
   ],
   "source": [
    "sns.set(rc={'figure.figsize':(15,8)})\n",
    "sns.set_style('whitegrid')\n",
    "g = sns.lineplot(data = accuracies, markers= ['o', 'o', 'o', 'o', 'o'])\n",
    "g.set(xlim = (0,100), ylim = (0.6,1), xticks = np.arange(0, 100, 10), yticks = np.arange(0.6, 1, 0.05))\n",
    "g.set_title(\"Accuracy vs Training Percentage for the Machine Learning Algorithms\")\n",
    "g.set_xlabel(\"Training Percentage\")\n",
    "g.set_ylabel(\"Accuracy\")"
   ]
  },
  {
   "cell_type": "code",
   "execution_count": 34,
   "metadata": {},
   "outputs": [
    {
     "data": {
      "text/plain": [
       "Text(0, 0.5, 'Precision')"
      ]
     },
     "execution_count": 34,
     "metadata": {},
     "output_type": "execute_result"
    },
    {
     "data": {
      "image/png": "[encoded data removed]",
      "text/plain": [
       "<Figure size 1080x576 with 1 Axes>"
      ]
     },
     "metadata": {},
     "output_type": "display_data"
    }
   ],
   "source": [
    "sns.set(rc={'figure.figsize':(15,8)})\n",
    "sns.set_style('whitegrid')\n",
    "g = sns.lineplot(data = precisions, markers= ['o', 'o', 'o', 'o', 'o'])\n",
    "g.set(xlim = (0,100), ylim = (0.6,1), xticks = np.arange(0, 100, 10), yticks = np.arange(0.6, 1, 0.05))\n",
    "g.set_title(\"Precision vs Training Percentage for the Machine Learning Algorithms\")\n",
    "g.set_xlabel(\"Training Percentage\")\n",
    "g.set_ylabel(\"Precision\")"
   ]
  },
  {
   "cell_type": "code",
   "execution_count": 35,
   "metadata": {},
   "outputs": [
    {
     "name": "stdout",
     "output_type": "stream",
     "text": [
      "The Url is a  Safe\n"
     ]
    }
   ],
   "source": [
    "def predict(txt):\n",
    "     url = cv.transform([txt]).toarray() # convert text to bag of words model (Vector)\n",
    "     phish = rfc.predict(url) # predict Whether the \n",
    "     phish = le.inverse_transform(phish) # find the url corresponding with the predicted value\n",
    "     print (\"The Url is a \", phish[0]) # printing whether the url is a phishing link or not\n",
    "\n",
    "predict('https://my.vultr.com/')  # Call the function"
   ]
  },
  {
   "cell_type": "code",
   "execution_count": 36,
   "metadata": {},
   "outputs": [],
   "source": [
    "# UsING Saved Model"
   ]
  },
  {
   "cell_type": "code",
   "execution_count": 37,
   "metadata": {},
   "outputs": [],
   "source": [
    "import pickle\n",
    "filename = 'rfc_model.pkl'\n",
    "pickle.dump(rfc, open(filename, 'wb'))"
   ]
  },
  {
   "cell_type": "code",
   "execution_count": 38,
   "metadata": {},
   "outputs": [],
   "source": [
    "model = pickle.load(open('rfc_model.pkl', 'rb'))"
   ]
  },
  {
   "cell_type": "code",
   "execution_count": 52,
   "metadata": {},
   "outputs": [
    {
     "name": "stdout",
     "output_type": "stream",
     "text": [
      "The Url is  a phishing Link\n"
     ]
    }
   ],
   "source": [
    "def predict(txt):\n",
    "     url = cv.transform([txt]).toarray() # convert text to bag of words model (Vector)\n",
    "     phish = model.predict(url) # predict Whether the \n",
    "     phish = le.inverse_transform(phish) # find the url corresponding with the predicted value\n",
    "     print (\"The Url is \", phish[0]) # printing whether the url is a phishing link or not\n",
    "\n",
    "predict('http://xvtr.sd/')  # Call the function"
   ]
  },
  {
   "cell_type": "code",
   "execution_count": 40,
   "metadata": {},
   "outputs": [],
   "source": [
    "# Uisng the saved model and vectorizer"
   ]
  },
  {
   "cell_type": "code",
   "execution_count": 41,
   "metadata": {},
   "outputs": [],
   "source": [
    "pickle.dump(cv, open(\"vectorizer.pkl\", \"wb\")) #Save vectorizer\n",
    "vectorizer= pickle.load(open(\"vectorizer.pkl\", 'rb'))     #Load vectorizer   "
   ]
  },
  {
   "cell_type": "code",
   "execution_count": 42,
   "metadata": {},
   "outputs": [
    {
     "name": "stdout",
     "output_type": "stream",
     "text": [
      "The Url is a  Safe\n"
     ]
    }
   ],
   "source": [
    "def predict(txt):\n",
    "     url = vectorizer.transform([txt]).toarray() # convert text to bag of words model (Vector)\n",
    "     phish = model.predict(url) # predict Whether the \n",
    "     phish = le.inverse_transform(phish) # find the url corresponding with the predicted value\n",
    "     print (\"The Url is a \", phish[0]) # printing whether the url is a phishing link or not\n",
    "\n",
    "predict('https://my.vultr.com/')  # Call the function"
   ]
  },
  {
   "cell_type": "code",
   "execution_count": 43,
   "metadata": {},
   "outputs": [],
   "source": [
    "#!pip install tensorflow"
   ]
  },
  {
   "cell_type": "code",
   "execution_count": 44,
   "metadata": {},
   "outputs": [],
   "source": [
    "#!pip install openml"
   ]
  },
  {
   "cell_type": "code",
   "execution_count": 45,
   "metadata": {},
   "outputs": [],
   "source": [
    "final = df.copy()"
   ]
  },
  {
   "cell_type": "code",
   "execution_count": 46,
   "metadata": {},
   "outputs": [],
   "source": [
    "final.replace(to_replace='bad', value='a phishing Link', inplace=True)"
   ]
  },
  {
   "cell_type": "code",
   "execution_count": 47,
   "metadata": {},
   "outputs": [],
   "source": [
    "final.replace(to_replace='good', value='Safe', inplace=True)"
   ]
  },
  {
   "cell_type": "code",
   "execution_count": 48,
   "metadata": {},
   "outputs": [
    {
     "data": {
      "text/plain": [
       "Safe               392924\n",
       "a phishing Link    156422\n",
       "Name: Label, dtype: int64"
      ]
     },
     "execution_count": 48,
     "metadata": {},
     "output_type": "execute_result"
    }
   ],
   "source": [
    "final.Label.value_counts()"
   ]
  },
  {
   "cell_type": "code",
   "execution_count": 49,
   "metadata": {},
   "outputs": [],
   "source": [
    "final.to_csv('phishing.csv')"
   ]
  },
  {
   "cell_type": "code",
   "execution_count": null,
   "metadata": {},
   "outputs": [],
   "source": []
  }
 ],
 "metadata": {
  "kernelspec": {
   "display_name": "Python 3 (ipykernel)",
   "language": "python",
   "name": "python3"
  },
  "language_info": {
   "codemirror_mode": {
    "name": "ipython",
    "version": 3
   },
   "file_extension": ".py",
   "mimetype": "text/x-python",
   "name": "python",
   "nbconvert_exporter": "python",
   "pygments_lexer": "ipython3",
   "version": "3.9.12"
  }
 },
 "nbformat": 4,
 "nbformat_minor": 2
}
